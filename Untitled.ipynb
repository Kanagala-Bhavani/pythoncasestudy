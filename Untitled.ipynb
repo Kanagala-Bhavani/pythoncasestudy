{
 "cells": [
  {
   "cell_type": "code",
   "execution_count": null,
   "id": "57fbec47",
   "metadata": {},
   "outputs": [
    {
     "name": "stdout",
     "output_type": "stream",
     "text": [
      "Welcome to the Roll the Dice Game!\n",
      "Rolling the dice...\n",
      "The dice rolled and you got: 5\n",
      "Do you want to roll again? (yes/no): yes\n",
      "Rolling the dice...\n",
      "The dice rolled and you got: 2\n"
     ]
    }
   ],
   "source": [
    "import random\n",
    "\n",
    "def roll_dice():\n",
    "    min_value = 1\n",
    "    max_value = 6\n",
    "    \n",
    "    while True:\n",
    "        print(\"Rolling the dice...\")\n",
    "        dice_value = random.randint(min_value, max_value)\n",
    "        print(\"The dice rolled and you got:\", dice_value)\n",
    "        \n",
    "        roll_again = input(\"Do you want to roll again? (yes/no): \")\n",
    "        if roll_again.lower() != \"yes\":\n",
    "            break\n",
    "\n",
    "print(\"Welcome to the Roll the Dice Game!\")\n",
    "roll_dice()\n",
    "print(\"Thanks for playing!\")"
   ]
  },
  {
   "cell_type": "code",
   "execution_count": null,
   "id": "30284904",
   "metadata": {},
   "outputs": [],
   "source": []
  }
 ],
 "metadata": {
  "kernelspec": {
   "display_name": "Python 3 (ipykernel)",
   "language": "python",
   "name": "python3"
  },
  "language_info": {
   "codemirror_mode": {
    "name": "ipython",
    "version": 3
   },
   "file_extension": ".py",
   "mimetype": "text/x-python",
   "name": "python",
   "nbconvert_exporter": "python",
   "pygments_lexer": "ipython3",
   "version": "3.10.9"
  }
 },
 "nbformat": 4,
 "nbformat_minor": 5
}
